{
 "cells": [
  {
   "cell_type": "code",
   "execution_count": 39,
   "metadata": {},
   "outputs": [],
   "source": [
    "import sys\n",
    "import types\n",
    "import pandas as pd\n",
    "from ibm_botocore.client import Config\n",
    "import ibm_boto3\n",
    "import matplotlib.pyplot as plt\n",
    "import seaborn as sns\n",
    "from scipy.optimize import curve_fit\n",
    "import numpy as np\n",
    "import math\n",
    "%matplotlib inline\n",
    "#Importing relavent code libraries."
   ]
  },
  {
   "cell_type": "code",
   "execution_count": null,
   "metadata": {},
   "outputs": [],
   "source": [
    "#Personal keys removed"
   ]
  },
  {
   "cell_type": "code",
   "execution_count": 3,
   "metadata": {},
   "outputs": [],
   "source": [
    "#A note before begining. As we are looking for a numerical prediciton, we should be looking to create a regression model. However due to how low the correlation was in the previous question, and how some variables had a cyclical and non cyclical patterns, it is likely that any model made will not be overly accurate.\n",
    "#Downloading merged dataframe and pearson values for context\n",
    "client_cred.download_file(Bucket=bucket,Key='df_merged_cos.pkl',Filename='./df_merged_local.pkl')\n",
    "client_cred.download_file(Bucket=bucket,Key='df_pearson_cos.pkl',Filename='./df_pearson_local.pkl')"
   ]
  },
  {
   "cell_type": "code",
   "execution_count": 4,
   "metadata": {},
   "outputs": [
    {
     "data": {
      "text/html": [
       "<div>\n",
       "<style scoped>\n",
       "    .dataframe tbody tr th:only-of-type {\n",
       "        vertical-align: middle;\n",
       "    }\n",
       "\n",
       "    .dataframe tbody tr th {\n",
       "        vertical-align: top;\n",
       "    }\n",
       "\n",
       "    .dataframe thead th {\n",
       "        text-align: right;\n",
       "    }\n",
       "</style>\n",
       "<table border=\"1\" class=\"dataframe\">\n",
       "  <thead>\n",
       "    <tr style=\"text-align: right;\">\n",
       "      <th></th>\n",
       "      <th>Lot</th>\n",
       "      <th>ZipCode</th>\n",
       "      <th>Address</th>\n",
       "      <th>LotArea</th>\n",
       "      <th>BldgArea</th>\n",
       "      <th>ResArea</th>\n",
       "      <th>OfficeArea</th>\n",
       "      <th>RetailArea</th>\n",
       "      <th>NumBldgs</th>\n",
       "      <th>NumFloors</th>\n",
       "      <th>...</th>\n",
       "      <th>BldgDepth</th>\n",
       "      <th>YearBuilt</th>\n",
       "      <th>YearAlter1</th>\n",
       "      <th>BuiltFAR</th>\n",
       "      <th>ResidFAR</th>\n",
       "      <th>CommFAR</th>\n",
       "      <th>FacilFAR</th>\n",
       "      <th>XCoord</th>\n",
       "      <th>YCoord</th>\n",
       "      <th>incident count</th>\n",
       "    </tr>\n",
       "  </thead>\n",
       "  <tbody>\n",
       "    <tr>\n",
       "      <th>0</th>\n",
       "      <td>17</td>\n",
       "      <td>10454.0</td>\n",
       "      <td>144 BRUCKNER BOULEVARD</td>\n",
       "      <td>2500</td>\n",
       "      <td>10625</td>\n",
       "      <td>0</td>\n",
       "      <td>0</td>\n",
       "      <td>2125</td>\n",
       "      <td>1</td>\n",
       "      <td>5.0</td>\n",
       "      <td>...</td>\n",
       "      <td>85.0</td>\n",
       "      <td>1931</td>\n",
       "      <td>2001</td>\n",
       "      <td>4.25</td>\n",
       "      <td>6.02</td>\n",
       "      <td>5.0</td>\n",
       "      <td>6.5</td>\n",
       "      <td>1006299.0</td>\n",
       "      <td>232033.0</td>\n",
       "      <td>5</td>\n",
       "    </tr>\n",
       "    <tr>\n",
       "      <th>1</th>\n",
       "      <td>18</td>\n",
       "      <td>10454.0</td>\n",
       "      <td>148 BRUCKNER BOULEVARD</td>\n",
       "      <td>1875</td>\n",
       "      <td>8595</td>\n",
       "      <td>6876</td>\n",
       "      <td>0</td>\n",
       "      <td>1719</td>\n",
       "      <td>1</td>\n",
       "      <td>5.0</td>\n",
       "      <td>...</td>\n",
       "      <td>70.0</td>\n",
       "      <td>1920</td>\n",
       "      <td>2009</td>\n",
       "      <td>4.58</td>\n",
       "      <td>6.02</td>\n",
       "      <td>5.0</td>\n",
       "      <td>6.5</td>\n",
       "      <td>1006363.0</td>\n",
       "      <td>232040.0</td>\n",
       "      <td>13</td>\n",
       "    </tr>\n",
       "    <tr>\n",
       "      <th>2</th>\n",
       "      <td>45</td>\n",
       "      <td>10454.0</td>\n",
       "      <td>147 BRUCKNER BOULEVARD</td>\n",
       "      <td>2500</td>\n",
       "      <td>11500</td>\n",
       "      <td>9176</td>\n",
       "      <td>0</td>\n",
       "      <td>2324</td>\n",
       "      <td>1</td>\n",
       "      <td>5.0</td>\n",
       "      <td>...</td>\n",
       "      <td>96.0</td>\n",
       "      <td>1925</td>\n",
       "      <td>0</td>\n",
       "      <td>4.60</td>\n",
       "      <td>3.00</td>\n",
       "      <td>2.0</td>\n",
       "      <td>3.0</td>\n",
       "      <td>1006412.0</td>\n",
       "      <td>232154.0</td>\n",
       "      <td>99</td>\n",
       "    </tr>\n",
       "    <tr>\n",
       "      <th>3</th>\n",
       "      <td>72</td>\n",
       "      <td>10454.0</td>\n",
       "      <td>169 BROOK AVENUE</td>\n",
       "      <td>1700</td>\n",
       "      <td>2080</td>\n",
       "      <td>2080</td>\n",
       "      <td>0</td>\n",
       "      <td>0</td>\n",
       "      <td>1</td>\n",
       "      <td>2.0</td>\n",
       "      <td>...</td>\n",
       "      <td>52.0</td>\n",
       "      <td>2000</td>\n",
       "      <td>0</td>\n",
       "      <td>1.22</td>\n",
       "      <td>2.43</td>\n",
       "      <td>0.0</td>\n",
       "      <td>4.8</td>\n",
       "      <td>1006189.0</td>\n",
       "      <td>232909.0</td>\n",
       "      <td>1</td>\n",
       "    </tr>\n",
       "    <tr>\n",
       "      <th>4</th>\n",
       "      <td>73</td>\n",
       "      <td>10454.0</td>\n",
       "      <td>167 BROOK AVENUE</td>\n",
       "      <td>1700</td>\n",
       "      <td>2080</td>\n",
       "      <td>2080</td>\n",
       "      <td>0</td>\n",
       "      <td>0</td>\n",
       "      <td>1</td>\n",
       "      <td>2.0</td>\n",
       "      <td>...</td>\n",
       "      <td>52.0</td>\n",
       "      <td>2000</td>\n",
       "      <td>0</td>\n",
       "      <td>1.22</td>\n",
       "      <td>2.43</td>\n",
       "      <td>0.0</td>\n",
       "      <td>4.8</td>\n",
       "      <td>1006179.0</td>\n",
       "      <td>232892.0</td>\n",
       "      <td>1</td>\n",
       "    </tr>\n",
       "  </tbody>\n",
       "</table>\n",
       "<p>5 rows × 21 columns</p>\n",
       "</div>"
      ],
      "text/plain": [
       "   Lot  ZipCode                 Address  LotArea  BldgArea  ResArea  \\\n",
       "0   17  10454.0  144 BRUCKNER BOULEVARD     2500     10625        0   \n",
       "1   18  10454.0  148 BRUCKNER BOULEVARD     1875      8595     6876   \n",
       "2   45  10454.0  147 BRUCKNER BOULEVARD     2500     11500     9176   \n",
       "3   72  10454.0        169 BROOK AVENUE     1700      2080     2080   \n",
       "4   73  10454.0        167 BROOK AVENUE     1700      2080     2080   \n",
       "\n",
       "   OfficeArea  RetailArea  NumBldgs  NumFloors  ...  BldgDepth  YearBuilt  \\\n",
       "0           0        2125         1        5.0  ...       85.0       1931   \n",
       "1           0        1719         1        5.0  ...       70.0       1920   \n",
       "2           0        2324         1        5.0  ...       96.0       1925   \n",
       "3           0           0         1        2.0  ...       52.0       2000   \n",
       "4           0           0         1        2.0  ...       52.0       2000   \n",
       "\n",
       "   YearAlter1  BuiltFAR  ResidFAR  CommFAR  FacilFAR     XCoord    YCoord  \\\n",
       "0        2001      4.25      6.02      5.0       6.5  1006299.0  232033.0   \n",
       "1        2009      4.58      6.02      5.0       6.5  1006363.0  232040.0   \n",
       "2           0      4.60      3.00      2.0       3.0  1006412.0  232154.0   \n",
       "3           0      1.22      2.43      0.0       4.8  1006189.0  232909.0   \n",
       "4           0      1.22      2.43      0.0       4.8  1006179.0  232892.0   \n",
       "\n",
       "   incident count  \n",
       "0               5  \n",
       "1              13  \n",
       "2              99  \n",
       "3               1  \n",
       "4               1  \n",
       "\n",
       "[5 rows x 21 columns]"
      ]
     },
     "execution_count": 4,
     "metadata": {},
     "output_type": "execute_result"
    }
   ],
   "source": [
    "df_merged = pd.read_pickle('./df_merged_local.pkl')\n",
    "df_merged.head()"
   ]
  },
  {
   "cell_type": "code",
   "execution_count": 7,
   "metadata": {},
   "outputs": [
    {
     "data": {
      "text/plain": [
       "<matplotlib.axes._subplots.AxesSubplot at 0x7f4295217dd8>"
      ]
     },
     "execution_count": 7,
     "metadata": {},
     "output_type": "execute_result"
    },
    {
     "data": {
      "image/png": "[encoded data removed]",
      "text/plain": [
       "<Figure size 432x288 with 1 Axes>"
      ]
     },
     "metadata": {
      "needs_background": "light"
     },
     "output_type": "display_data"
    }
   ],
   "source": [
    "df_pearson=pd.read_pickle('./df_pearson_local.pkl')\n",
    "df_pearson.plot(kind='bar')"
   ]
  },
  {
   "cell_type": "code",
   "execution_count": 8,
   "metadata": {},
   "outputs": [
    {
     "data": {
      "text/html": [
       "<div>\n",
       "<style scoped>\n",
       "    .dataframe tbody tr th:only-of-type {\n",
       "        vertical-align: middle;\n",
       "    }\n",
       "\n",
       "    .dataframe tbody tr th {\n",
       "        vertical-align: top;\n",
       "    }\n",
       "\n",
       "    .dataframe thead th {\n",
       "        text-align: right;\n",
       "    }\n",
       "</style>\n",
       "<table border=\"1\" class=\"dataframe\">\n",
       "  <thead>\n",
       "    <tr style=\"text-align: right;\">\n",
       "      <th></th>\n",
       "      <th>Pearson Value</th>\n",
       "    </tr>\n",
       "    <tr>\n",
       "      <th>Columns</th>\n",
       "      <th></th>\n",
       "    </tr>\n",
       "  </thead>\n",
       "  <tbody>\n",
       "    <tr>\n",
       "      <th>Lot</th>\n",
       "      <td>0.000331</td>\n",
       "    </tr>\n",
       "    <tr>\n",
       "      <th>ZipCode</th>\n",
       "      <td>-0.063169</td>\n",
       "    </tr>\n",
       "    <tr>\n",
       "      <th>Address</th>\n",
       "      <td>0.000000</td>\n",
       "    </tr>\n",
       "    <tr>\n",
       "      <th>LotArea</th>\n",
       "      <td>0.034397</td>\n",
       "    </tr>\n",
       "    <tr>\n",
       "      <th>BldgArea</th>\n",
       "      <td>0.125485</td>\n",
       "    </tr>\n",
       "    <tr>\n",
       "      <th>ResArea</th>\n",
       "      <td>0.141368</td>\n",
       "    </tr>\n",
       "    <tr>\n",
       "      <th>OfficeArea</th>\n",
       "      <td>-0.005495</td>\n",
       "    </tr>\n",
       "    <tr>\n",
       "      <th>RetailArea</th>\n",
       "      <td>0.014412</td>\n",
       "    </tr>\n",
       "    <tr>\n",
       "      <th>NumBldgs</th>\n",
       "      <td>-0.017703</td>\n",
       "    </tr>\n",
       "    <tr>\n",
       "      <th>NumFloors</th>\n",
       "      <td>0.242949</td>\n",
       "    </tr>\n",
       "    <tr>\n",
       "      <th>LotDepth</th>\n",
       "      <td>0.074474</td>\n",
       "    </tr>\n",
       "    <tr>\n",
       "      <th>BldgDepth</th>\n",
       "      <td>0.194961</td>\n",
       "    </tr>\n",
       "    <tr>\n",
       "      <th>YearBuilt</th>\n",
       "      <td>0.004416</td>\n",
       "    </tr>\n",
       "    <tr>\n",
       "      <th>YearAlter1</th>\n",
       "      <td>0.060005</td>\n",
       "    </tr>\n",
       "    <tr>\n",
       "      <th>BuiltFAR</th>\n",
       "      <td>0.157144</td>\n",
       "    </tr>\n",
       "    <tr>\n",
       "      <th>ResidFAR</th>\n",
       "      <td>0.148079</td>\n",
       "    </tr>\n",
       "    <tr>\n",
       "      <th>CommFAR</th>\n",
       "      <td>-0.007193</td>\n",
       "    </tr>\n",
       "    <tr>\n",
       "      <th>FacilFAR</th>\n",
       "      <td>0.132624</td>\n",
       "    </tr>\n",
       "    <tr>\n",
       "      <th>XCoord</th>\n",
       "      <td>NaN</td>\n",
       "    </tr>\n",
       "    <tr>\n",
       "      <th>YCoord</th>\n",
       "      <td>NaN</td>\n",
       "    </tr>\n",
       "    <tr>\n",
       "      <th>incident count</th>\n",
       "      <td>1.000000</td>\n",
       "    </tr>\n",
       "  </tbody>\n",
       "</table>\n",
       "</div>"
      ],
      "text/plain": [
       "                Pearson Value\n",
       "Columns                      \n",
       "Lot                  0.000331\n",
       "ZipCode             -0.063169\n",
       "Address              0.000000\n",
       "LotArea              0.034397\n",
       "BldgArea             0.125485\n",
       "ResArea              0.141368\n",
       "OfficeArea          -0.005495\n",
       "RetailArea           0.014412\n",
       "NumBldgs            -0.017703\n",
       "NumFloors            0.242949\n",
       "LotDepth             0.074474\n",
       "BldgDepth            0.194961\n",
       "YearBuilt            0.004416\n",
       "YearAlter1           0.060005\n",
       "BuiltFAR             0.157144\n",
       "ResidFAR             0.148079\n",
       "CommFAR             -0.007193\n",
       "FacilFAR             0.132624\n",
       "XCoord                    NaN\n",
       "YCoord                    NaN\n",
       "incident count       1.000000"
      ]
     },
     "execution_count": 8,
     "metadata": {},
     "output_type": "execute_result"
    }
   ],
   "source": [
    "df_pearson"
   ]
  },
  {
   "cell_type": "code",
   "execution_count": 17,
   "metadata": {},
   "outputs": [
    {
     "data": {
      "text/plain": [
       "<matplotlib.axes._subplots.AxesSubplot at 0x7f4294a5cd30>"
      ]
     },
     "execution_count": 17,
     "metadata": {},
     "output_type": "execute_result"
    },
    {
     "data": {
      "image/png": "[encoded data removed]",
      "text/plain": [
       "<Figure size 432x288 with 1 Axes>"
      ]
     },
     "metadata": {
      "needs_background": "light"
     },
     "output_type": "display_data"
    }
   ],
   "source": [
    "#By making use of the pearson values we can narrow down which categories should have some form of effect on the incident count and hopefully improve the quality of the model.\n",
    "#In this case we are going to remove the categories all but incident count and number of floors as the general correlation between values is very low, and likely work on different progressions, creating a lot of noise if added together\n",
    "df_formodel=df_merged.drop(columns=['Lot','ZipCode','Address','LotArea','OfficeArea','NumBldgs','LotDepth','YearBuilt','YearAlter1','CommFAR','XCoord','YCoord','RetailArea','BldgArea','ResArea','BldgDepth','BuiltFAR','ResidFAR','FacilFAR'])\n",
    "df_formodel.plot(x='NumFloors',y='incident count',style='o')"
   ]
  },
  {
   "cell_type": "code",
   "execution_count": 55,
   "metadata": {},
   "outputs": [],
   "source": [
    "#From the graph we can see regular peaks and troughs, suggesting a sinusoidal or other periodic function \n",
    "#In order to test for out of sample accuracy, we are going to split the sample into 4.\n",
    "df_split1=np.array_split(df_formodel,4)[0]\n",
    "df_split2=np.array_split(df_formodel,4)[1]\n",
    "df_split3=np.array_split(df_formodel,4)[2]\n",
    "df_split4=np.array_split(df_formodel,4)[3]\n",
    "#Note, we could do the following steps with a loop through the different methods keeping them in a list, but this does not end up displaying well within these notebooks so we will be repeating code for each portion.\n",
    "#Defining a quadratic function, as it is the closest to such a function as I am currently capable of creating\n",
    "def quad(x,beta_1,beta_2,beta_3,beta_4,beta_5,beta_6,beta_7,beta_8):\n",
    "    y=(beta_1+beta_2*(x)+beta_3*(x**2)+beta_4*(x**3)+beta_5*(x**4)+beta_6*(x**5)+beta_7*(x**6)+beta_8*(x**7))\n",
    "    return y\n",
    "#A function like this is going to make some clear overfitting, but given a lack a non-lopping relation, it will have to do.\n",
    "#Taking out data and normalising"
   ]
  },
  {
   "cell_type": "code",
   "execution_count": 48,
   "metadata": {},
   "outputs": [],
   "source": [
    "x_data1,y_data1=(df_split1['NumFloors'].values,df_split1['incident count'].values)\n",
    "x_data_norm1=x_data1/max(x_data1)\n",
    "y_data_norm1=y_data1/max(y_data1)\n",
    "x_data_norm1=x_data_norm1.astype('float64')\n",
    "y_data_norm1=y_data_norm1.astype('float64')\n"
   ]
  },
  {
   "cell_type": "code",
   "execution_count": 56,
   "metadata": {},
   "outputs": [
    {
     "data": {
      "image/png": "[encoded data removed]",
      "text/plain": [
       "<Figure size 576x360 with 1 Axes>"
      ]
     },
     "metadata": {
      "needs_background": "light"
     },
     "output_type": "display_data"
    }
   ],
   "source": [
    "popt1,pcov=curve_fit(quad,x_data_norm1,y_data_norm1)\n",
    "x=np.linspace(0,35)\n",
    "x=x/max(x)\n",
    "plt.figure(figsize=(8,5))\n",
    "y=quad(x, *popt1)\n",
    "plt.plot(x_data_norm1,y_data_norm1,'ro',label='data')\n",
    "plt.plot(x,y, linewidth=3.0,label='fit')\n",
    "plt.legend(loc='best')\n",
    "plt.ylabel('Incident Count')\n",
    "plt.xlabel('Number of Floors')\n",
    "plt.show()"
   ]
  },
  {
   "cell_type": "code",
   "execution_count": 57,
   "metadata": {},
   "outputs": [
    {
     "data": {
      "image/png": "[encoded data removed]",
      "text/plain": [
       "<Figure size 576x360 with 1 Axes>"
      ]
     },
     "metadata": {
      "needs_background": "light"
     },
     "output_type": "display_data"
    }
   ],
   "source": [
    "x_data2,y_data2=(df_split2['NumFloors'].values,df_split2['incident count'].values)\n",
    "x_data_norm2=x_data2/max(x_data2)\n",
    "y_data_norm2=y_data2/max(y_data2)\n",
    "x_data_norm2=x_data_norm2.astype('float64')\n",
    "y_data_norm2=y_data_norm2.astype('float64')\n",
    "popt2,pcov=curve_fit(quad,x_data_norm2,y_data_norm2)\n",
    "x=np.linspace(0,35)\n",
    "x=x/max(x)\n",
    "plt.figure(figsize=(8,5))\n",
    "y=quad(x, *popt2)\n",
    "plt.plot(x_data_norm2,y_data_norm2,'ro',label='data')\n",
    "plt.plot(x,y, linewidth=3.0,label='fit')\n",
    "plt.legend(loc='best')\n",
    "plt.ylabel('Incident Count')\n",
    "plt.xlabel('Number of Floors')\n",
    "plt.show()"
   ]
  },
  {
   "cell_type": "code",
   "execution_count": 58,
   "metadata": {},
   "outputs": [
    {
     "data": {
      "image/png": "[encoded data removed]",
      "text/plain": [
       "<Figure size 576x360 with 1 Axes>"
      ]
     },
     "metadata": {
      "needs_background": "light"
     },
     "output_type": "display_data"
    }
   ],
   "source": [
    "x_data3,y_data3=(df_split3['NumFloors'].values,df_split3['incident count'].values)\n",
    "x_data_norm3=x_data3/max(x_data3)\n",
    "y_data_norm3=y_data3/max(y_data3)\n",
    "x_data_norm3=x_data_norm3.astype('float64')\n",
    "y_data_norm3=y_data_norm3.astype('float64')\n",
    "popt3,pcov=curve_fit(quad,x_data_norm3,y_data_norm3)\n",
    "x=np.linspace(0,35)\n",
    "x=x/max(x)\n",
    "plt.figure(figsize=(8,5))\n",
    "y=quad(x, *popt3)\n",
    "plt.plot(x_data_norm3,y_data_norm3,'ro',label='data')\n",
    "plt.plot(x,y, linewidth=3.0,label='fit')\n",
    "plt.legend(loc='best')\n",
    "plt.ylabel('Incident Count')\n",
    "plt.xlabel('Number of Floors')\n",
    "plt.show()"
   ]
  },
  {
   "cell_type": "code",
   "execution_count": 59,
   "metadata": {},
   "outputs": [
    {
     "data": {
      "image/png": "[encoded data removed]",
      "text/plain": [
       "<Figure size 576x360 with 1 Axes>"
      ]
     },
     "metadata": {
      "needs_background": "light"
     },
     "output_type": "display_data"
    }
   ],
   "source": [
    "x_data4,y_data4=(df_split4['NumFloors'].values,df_split4['incident count'].values)\n",
    "x_data_norm4=x_data4/max(x_data4)\n",
    "y_data_norm4=y_data4/max(y_data4)\n",
    "x_data_norm4=x_data_norm4.astype('float64')\n",
    "y_data_norm4=y_data_norm4.astype('float64')\n",
    "popt4,pcov=curve_fit(quad,x_data_norm4,y_data_norm4)\n",
    "x=np.linspace(0,35)\n",
    "x=x/max(x)\n",
    "plt.figure(figsize=(8,5))\n",
    "y=quad(x, *popt4)\n",
    "plt.plot(x_data_norm4,y_data_norm4,'ro',label='data')\n",
    "plt.plot(x,y, linewidth=3.0,label='fit')\n",
    "plt.legend(loc='best')\n",
    "plt.ylabel('Incident Count')\n",
    "plt.xlabel('Number of Floors')\n",
    "plt.show()"
   ]
  },
  {
   "cell_type": "code",
   "execution_count": null,
   "metadata": {},
   "outputs": [],
   "source": [
    "#Without any further analysis it is clear that the current model is certainly not effective at accurately predicting what sort of data is likely to appear in the future.\n",
    "#Only data set 4 had much simularility to the original set. While my model may not be a success, I do believe that it shows that with the correct formulae, it would be possible to create a model which could predict future data sets.\n",
    "#As stated earlier, I would expect such data to take the form of a large spike around 5 floors, then a rapid fall off, before peaking again just before the fifth floor after that, and so on and so forth."
   ]
  }
 ],
 "metadata": {
  "kernelspec": {
   "display_name": "Python 3.6",
   "language": "python",
   "name": "python3"
  },
  "language_info": {
   "codemirror_mode": {
    "name": "ipython",
    "version": 3
   },
   "file_extension": ".py",
   "mimetype": "text/x-python",
   "name": "python",
   "nbconvert_exporter": "python",
   "pygments_lexer": "ipython3",
   "version": "3.6.9"
  }
 },
 "nbformat": 4,
 "nbformat_minor": 1
}
