{
 "cells": [
  {
   "cell_type": "code",
   "execution_count": null,
   "metadata": {},
   "outputs": [],
   "source": [
    "#Importing relavent libraries and data"
   ]
  },
  {
   "cell_type": "code",
   "execution_count": null,
   "metadata": {
    "scrolled": true
   },
   "outputs": [
    {
     "data": {
      "text/html": [
       "<div>\n",
       "<style scoped>\n",
       "    .dataframe tbody tr th:only-of-type {\n",
       "        vertical-align: middle;\n",
       "    }\n",
       "\n",
       "    .dataframe tbody tr th {\n",
       "        vertical-align: top;\n",
       "    }\n",
       "\n",
       "    .dataframe thead th {\n",
       "        text-align: right;\n",
       "    }\n",
       "</style>\n",
       "<table border=\"1\" class=\"dataframe\">\n",
       "  <thead>\n",
       "    <tr style=\"text-align: right;\">\n",
       "      <th></th>\n",
       "      <th>created_date</th>\n",
       "      <th>unique_key</th>\n",
       "      <th>complaint_type</th>\n",
       "      <th>incident_zip</th>\n",
       "      <th>incident_address</th>\n",
       "      <th>street_name</th>\n",
       "      <th>address_type</th>\n",
       "      <th>city</th>\n",
       "      <th>resolution_description</th>\n",
       "      <th>borough</th>\n",
       "      <th>latitude</th>\n",
       "      <th>longitude</th>\n",
       "      <th>closed_date</th>\n",
       "      <th>location_type</th>\n",
       "      <th>status</th>\n",
       "    </tr>\n",
       "  </thead>\n",
       "  <tbody>\n",
       "    <tr>\n",
       "      <th>0</th>\n",
       "      <td>2020-02-05 10:29:10</td>\n",
       "      <td>45554675</td>\n",
       "      <td>DOOR/WINDOW</td>\n",
       "      <td>10016.0</td>\n",
       "      <td>500 2 AVENUE</td>\n",
       "      <td>2 AVENUE</td>\n",
       "      <td>ADDRESS</td>\n",
       "      <td>NEW YORK</td>\n",
       "      <td>The following complaint conditions are still o...</td>\n",
       "      <td>MANHATTAN</td>\n",
       "      <td>40.741111</td>\n",
       "      <td>-73.978539</td>\n",
       "      <td>NaN</td>\n",
       "      <td>RESIDENTIAL BUILDING</td>\n",
       "      <td>Open</td>\n",
       "    </tr>\n",
       "    <tr>\n",
       "      <th>1</th>\n",
       "      <td>2020-02-05 12:51:21</td>\n",
       "      <td>45553708</td>\n",
       "      <td>ELECTRIC</td>\n",
       "      <td>10033.0</td>\n",
       "      <td>1401 ST NICHOLAS AVENUE</td>\n",
       "      <td>ST NICHOLAS AVENUE</td>\n",
       "      <td>ADDRESS</td>\n",
       "      <td>NEW YORK</td>\n",
       "      <td>The following complaint conditions are still o...</td>\n",
       "      <td>MANHATTAN</td>\n",
       "      <td>40.848783</td>\n",
       "      <td>-73.934140</td>\n",
       "      <td>NaN</td>\n",
       "      <td>RESIDENTIAL BUILDING</td>\n",
       "      <td>Open</td>\n",
       "    </tr>\n",
       "    <tr>\n",
       "      <th>2</th>\n",
       "      <td>2020-02-05 20:44:10</td>\n",
       "      <td>45554755</td>\n",
       "      <td>HEAT/HOT WATER</td>\n",
       "      <td>11216.0</td>\n",
       "      <td>815 PARK PLACE</td>\n",
       "      <td>PARK PLACE</td>\n",
       "      <td>ADDRESS</td>\n",
       "      <td>BROOKLYN</td>\n",
       "      <td>The following complaint conditions are still o...</td>\n",
       "      <td>BROOKLYN</td>\n",
       "      <td>40.673471</td>\n",
       "      <td>-73.950921</td>\n",
       "      <td>NaN</td>\n",
       "      <td>RESIDENTIAL BUILDING</td>\n",
       "      <td>Open</td>\n",
       "    </tr>\n",
       "    <tr>\n",
       "      <th>3</th>\n",
       "      <td>2020-02-05 07:47:17</td>\n",
       "      <td>45553828</td>\n",
       "      <td>HEAT/HOT WATER</td>\n",
       "      <td>10003.0</td>\n",
       "      <td>332 EAST    9 STREET</td>\n",
       "      <td>EAST    9 STREET</td>\n",
       "      <td>ADDRESS</td>\n",
       "      <td>NEW YORK</td>\n",
       "      <td>The Department of Housing Preservation and Dev...</td>\n",
       "      <td>MANHATTAN</td>\n",
       "      <td>40.728796</td>\n",
       "      <td>-73.986351</td>\n",
       "      <td>2020-02-05T17:25:20.000</td>\n",
       "      <td>RESIDENTIAL BUILDING</td>\n",
       "      <td>Closed</td>\n",
       "    </tr>\n",
       "    <tr>\n",
       "      <th>4</th>\n",
       "      <td>2020-02-05 18:48:25</td>\n",
       "      <td>45553886</td>\n",
       "      <td>HEAT/HOT WATER</td>\n",
       "      <td>10034.0</td>\n",
       "      <td>125 VERMILYEA AVENUE</td>\n",
       "      <td>VERMILYEA AVENUE</td>\n",
       "      <td>ADDRESS</td>\n",
       "      <td>NEW YORK</td>\n",
       "      <td>The complaint you filed is a duplicate of a co...</td>\n",
       "      <td>MANHATTAN</td>\n",
       "      <td>40.866492</td>\n",
       "      <td>-73.921313</td>\n",
       "      <td>NaN</td>\n",
       "      <td>RESIDENTIAL BUILDING</td>\n",
       "      <td>Open</td>\n",
       "    </tr>\n",
       "  </tbody>\n",
       "</table>\n",
       "</div>"
      ],
      "text/plain": [
       "         created_date  unique_key  complaint_type  incident_zip  \\\n",
       "0 2020-02-05 10:29:10    45554675     DOOR/WINDOW       10016.0   \n",
       "1 2020-02-05 12:51:21    45553708        ELECTRIC       10033.0   \n",
       "2 2020-02-05 20:44:10    45554755  HEAT/HOT WATER       11216.0   \n",
       "3 2020-02-05 07:47:17    45553828  HEAT/HOT WATER       10003.0   \n",
       "4 2020-02-05 18:48:25    45553886  HEAT/HOT WATER       10034.0   \n",
       "\n",
       "          incident_address         street_name address_type      city  \\\n",
       "0             500 2 AVENUE            2 AVENUE      ADDRESS  NEW YORK   \n",
       "1  1401 ST NICHOLAS AVENUE  ST NICHOLAS AVENUE      ADDRESS  NEW YORK   \n",
       "2           815 PARK PLACE          PARK PLACE      ADDRESS  BROOKLYN   \n",
       "3     332 EAST    9 STREET    EAST    9 STREET      ADDRESS  NEW YORK   \n",
       "4     125 VERMILYEA AVENUE    VERMILYEA AVENUE      ADDRESS  NEW YORK   \n",
       "\n",
       "                              resolution_description    borough   latitude  \\\n",
       "0  The following complaint conditions are still o...  MANHATTAN  40.741111   \n",
       "1  The following complaint conditions are still o...  MANHATTAN  40.848783   \n",
       "2  The following complaint conditions are still o...   BROOKLYN  40.673471   \n",
       "3  The Department of Housing Preservation and Dev...  MANHATTAN  40.728796   \n",
       "4  The complaint you filed is a duplicate of a co...  MANHATTAN  40.866492   \n",
       "\n",
       "   longitude              closed_date         location_type  status  \n",
       "0 -73.978539                      NaN  RESIDENTIAL BUILDING    Open  \n",
       "1 -73.934140                      NaN  RESIDENTIAL BUILDING    Open  \n",
       "2 -73.950921                      NaN  RESIDENTIAL BUILDING    Open  \n",
       "3 -73.986351  2020-02-05T17:25:20.000  RESIDENTIAL BUILDING  Closed  \n",
       "4 -73.921313                      NaN  RESIDENTIAL BUILDING    Open  "
      ]
     },
     "execution_count": 1,
     "metadata": {},
     "output_type": "execute_result"
    }
   ],
   "source": [
    "\n",
    "import types\n",
    "import pandas as pd\n",
    "from botocore.client import Config\n",
    "import ibm_boto3\n",
    "\n",
    "def __iter__(self): return 0\n",
    "\n",
    "#Personal Keys Removed\n",
    "# add missing __iter__ method, so pandas accepts body as file-like object\n",
    "if not hasattr(body, \"__iter__\"): body.__iter__ = types.MethodType( __iter__, body )\n",
    "\n",
    "df_data_1 = pd.read_csv(body, parse_dates=['created_date'])\n",
    "df_data_1.head()\n"
   ]
  },
  {
   "cell_type": "code",
   "execution_count": null,
   "metadata": {},
   "outputs": [],
   "source": [
    "#PersonalKeysRemoved"
   ]
  },
  {
   "cell_type": "code",
   "execution_count": 3,
   "metadata": {},
   "outputs": [],
   "source": [
    "#Reuploading as a pickle file\n",
    "df_data_1.to_pickle('./df_raw.pkl')\n",
    "client_cred.upload_file('./df_raw.pkl',bucket,'df_raw_cos.pkl')"
   ]
  },
  {
   "cell_type": "code",
   "execution_count": 4,
   "metadata": {},
   "outputs": [
    {
     "data": {
      "text/plain": [
       "HEAT/HOT WATER            1263069\n",
       "HEATING                    887869\n",
       "PLUMBING                   711360\n",
       "GENERAL CONSTRUCTION       500863\n",
       "UNSANITARY CONDITION       452031\n",
       "PAINT - PLASTER            361257\n",
       "PAINT/PLASTER              346596\n",
       "ELECTRIC                   307430\n",
       "NONCONST                   260890\n",
       "DOOR/WINDOW                205424\n",
       "WATER LEAK                 193758\n",
       "GENERAL                    151429\n",
       "FLOORING/STAIRS            137462\n",
       "APPLIANCE                  112932\n",
       "HPD Literature Request      52830\n",
       "SAFETY                      51582\n",
       "OUTSIDE BUILDING             7147\n",
       "ELEVATOR                     6734\n",
       "Unsanitary Condition         5499\n",
       "CONSTRUCTION                 5078\n",
       "General                      1163\n",
       "Safety                        424\n",
       "STRUCTURAL                     16\n",
       "Plumbing                       11\n",
       "AGENCY                          9\n",
       "VACANT APARTMENT                8\n",
       "Outside Building                6\n",
       "Appliance                       4\n",
       "Electric                        1\n",
       "Mold                            1\n",
       "Name: complaint_type, dtype: int64"
      ]
     },
     "execution_count": 4,
     "metadata": {},
     "output_type": "execute_result"
    }
   ],
   "source": [
    "df_data_1['complaint_type'].value_counts()"
   ]
  },
  {
   "cell_type": "code",
   "execution_count": 11,
   "metadata": {},
   "outputs": [
    {
     "data": {
      "text/plain": [
       "<matplotlib.axes._subplots.AxesSubplot at 0x7f654a25ff28>"
      ]
     },
     "execution_count": 11,
     "metadata": {},
     "output_type": "execute_result"
    },
    {
     "data": {
      "image/png": "[encoded data removed]",
      "text/plain": [
       "<Figure size 432x288 with 1 Axes>"
      ]
     },
     "metadata": {
      "needs_background": "light"
     },
     "output_type": "display_data"
    }
   ],
   "source": [
    "df_data_1['complaint_type'].value_counts().plot(kind='bar',title='Complete set; Number of complaints')\n"
   ]
  },
  {
   "cell_type": "code",
   "execution_count": 5,
   "metadata": {},
   "outputs": [],
   "source": [
    "#From looking at the raw data at the current time, and lacking any information on costs, time and difficulty for solving the issues; heating/hot water seems to be the most prevalent problem and as\n",
    "#such should be what is focused on. Arguments could be made on how other complaint types have greater severity, but you could also argue that a lack of heating can be fatal in winter months.\n",
    "mask=  (df_data_1['created_date'] <= '2018-12-31')\n",
    "df_data_dated=df_data_1.loc[mask]"
   ]
  },
  {
   "cell_type": "code",
   "execution_count": 6,
   "metadata": {},
   "outputs": [
    {
     "data": {
      "text/plain": [
       "HEAT/HOT WATER            1023062\n",
       "HEATING                    887869\n",
       "PLUMBING                   673260\n",
       "GENERAL CONSTRUCTION       500863\n",
       "UNSANITARY CONDITION       390705\n",
       "PAINT - PLASTER            361257\n",
       "PAINT/PLASTER              310888\n",
       "ELECTRIC                   289280\n",
       "NONCONST                   260890\n",
       "DOOR/WINDOW                179467\n",
       "WATER LEAK                 167783\n",
       "GENERAL                    132153\n",
       "FLOORING/STAIRS            122804\n",
       "APPLIANCE                  101910\n",
       "HPD Literature Request      51600\n",
       "SAFETY                      44056\n",
       "OUTSIDE BUILDING             6529\n",
       "ELEVATOR                     5615\n",
       "CONSTRUCTION                 5078\n",
       "Unsanitary Condition          141\n",
       "General                        70\n",
       "STRUCTURAL                     16\n",
       "AGENCY                          9\n",
       "Safety                          8\n",
       "VACANT APARTMENT                8\n",
       "Name: complaint_type, dtype: int64"
      ]
     },
     "execution_count": 6,
     "metadata": {},
     "output_type": "execute_result"
    }
   ],
   "source": [
    "df_data_dated['complaint_type'].value_counts()"
   ]
  },
  {
   "cell_type": "code",
   "execution_count": 13,
   "metadata": {},
   "outputs": [
    {
     "data": {
      "text/plain": [
       "<matplotlib.axes._subplots.AxesSubplot at 0x7f65338b7710>"
      ]
     },
     "execution_count": 13,
     "metadata": {},
     "output_type": "execute_result"
    },
    {
     "data": {
      "image/png": "[encoded data removed]",
      "text/plain": [
       "<Figure size 432x288 with 1 Axes>"
      ]
     },
     "metadata": {
      "needs_background": "light"
     },
     "output_type": "display_data"
    }
   ],
   "source": [
    "df_data_dated['complaint_type'].value_counts().plot(kind='bar',title='Before the end of 2018; Number of complaints')"
   ]
  },
  {
   "cell_type": "code",
   "execution_count": null,
   "metadata": {},
   "outputs": [],
   "source": [
    "#Created an extra data set, this time limited to results before the 31/12/2018 to check for one of the written questions. Aka to see if the most common complaint was still heat related."
   ]
  }
 ],
 "metadata": {
  "kernelspec": {
   "display_name": "Python 3.6",
   "language": "python",
   "name": "python3"
  },
  "language_info": {
   "codemirror_mode": {
    "name": "ipython",
    "version": 3
   },
   "file_extension": ".py",
   "mimetype": "text/x-python",
   "name": "python",
   "nbconvert_exporter": "python",
   "pygments_lexer": "ipython3",
   "version": "3.6.9"
  }
 },
 "nbformat": 4,
 "nbformat_minor": 1
}
