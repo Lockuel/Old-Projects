{
 "cells": [
  {
   "cell_type": "code",
   "execution_count": 2,
   "metadata": {},
   "outputs": [],
   "source": [
    "import sys\n",
    "import types\n",
    "import pandas as pd\n",
    "from ibm_botocore.client import Config\n",
    "import ibm_boto3\n",
    "import matplotlib.pyplot as plt\n",
    "import seaborn as sns\n",
    "%matplotlib inline\n",
    "#Importing data and relavent code libraries."
   ]
  },
  {
   "cell_type": "code",
   "execution_count": null,
   "metadata": {},
   "outputs": [],
   "source": [
    "#Personal Keys Removed"
   ]
  },
  {
   "cell_type": "code",
   "execution_count": 4,
   "metadata": {},
   "outputs": [],
   "source": [
    "client_cred.download_file(Bucket=bucket,Key='df_raw_cos.pkl',Filename='./df_raw_local.pkl')"
   ]
  },
  {
   "cell_type": "code",
   "execution_count": 5,
   "metadata": {},
   "outputs": [
    {
     "data": {
      "text/html": [
       "<div>\n",
       "<style scoped>\n",
       "    .dataframe tbody tr th:only-of-type {\n",
       "        vertical-align: middle;\n",
       "    }\n",
       "\n",
       "    .dataframe tbody tr th {\n",
       "        vertical-align: top;\n",
       "    }\n",
       "\n",
       "    .dataframe thead th {\n",
       "        text-align: right;\n",
       "    }\n",
       "</style>\n",
       "<table border=\"1\" class=\"dataframe\">\n",
       "  <thead>\n",
       "    <tr style=\"text-align: right;\">\n",
       "      <th></th>\n",
       "      <th>created_date</th>\n",
       "      <th>unique_key</th>\n",
       "      <th>complaint_type</th>\n",
       "      <th>incident_zip</th>\n",
       "      <th>incident_address</th>\n",
       "      <th>street_name</th>\n",
       "      <th>address_type</th>\n",
       "      <th>city</th>\n",
       "      <th>resolution_description</th>\n",
       "      <th>borough</th>\n",
       "      <th>latitude</th>\n",
       "      <th>longitude</th>\n",
       "      <th>closed_date</th>\n",
       "      <th>location_type</th>\n",
       "      <th>status</th>\n",
       "    </tr>\n",
       "  </thead>\n",
       "  <tbody>\n",
       "    <tr>\n",
       "      <th>0</th>\n",
       "      <td>2020-02-05 10:29:10</td>\n",
       "      <td>45554675</td>\n",
       "      <td>DOOR/WINDOW</td>\n",
       "      <td>10016.0</td>\n",
       "      <td>500 2 AVENUE</td>\n",
       "      <td>2 AVENUE</td>\n",
       "      <td>ADDRESS</td>\n",
       "      <td>NEW YORK</td>\n",
       "      <td>The following complaint conditions are still o...</td>\n",
       "      <td>MANHATTAN</td>\n",
       "      <td>40.741111</td>\n",
       "      <td>-73.978539</td>\n",
       "      <td>NaN</td>\n",
       "      <td>RESIDENTIAL BUILDING</td>\n",
       "      <td>Open</td>\n",
       "    </tr>\n",
       "    <tr>\n",
       "      <th>1</th>\n",
       "      <td>2020-02-05 12:51:21</td>\n",
       "      <td>45553708</td>\n",
       "      <td>ELECTRIC</td>\n",
       "      <td>10033.0</td>\n",
       "      <td>1401 ST NICHOLAS AVENUE</td>\n",
       "      <td>ST NICHOLAS AVENUE</td>\n",
       "      <td>ADDRESS</td>\n",
       "      <td>NEW YORK</td>\n",
       "      <td>The following complaint conditions are still o...</td>\n",
       "      <td>MANHATTAN</td>\n",
       "      <td>40.848783</td>\n",
       "      <td>-73.934140</td>\n",
       "      <td>NaN</td>\n",
       "      <td>RESIDENTIAL BUILDING</td>\n",
       "      <td>Open</td>\n",
       "    </tr>\n",
       "    <tr>\n",
       "      <th>2</th>\n",
       "      <td>2020-02-05 20:44:10</td>\n",
       "      <td>45554755</td>\n",
       "      <td>HEAT/HOT WATER</td>\n",
       "      <td>11216.0</td>\n",
       "      <td>815 PARK PLACE</td>\n",
       "      <td>PARK PLACE</td>\n",
       "      <td>ADDRESS</td>\n",
       "      <td>BROOKLYN</td>\n",
       "      <td>The following complaint conditions are still o...</td>\n",
       "      <td>BROOKLYN</td>\n",
       "      <td>40.673471</td>\n",
       "      <td>-73.950921</td>\n",
       "      <td>NaN</td>\n",
       "      <td>RESIDENTIAL BUILDING</td>\n",
       "      <td>Open</td>\n",
       "    </tr>\n",
       "    <tr>\n",
       "      <th>3</th>\n",
       "      <td>2020-02-05 07:47:17</td>\n",
       "      <td>45553828</td>\n",
       "      <td>HEAT/HOT WATER</td>\n",
       "      <td>10003.0</td>\n",
       "      <td>332 EAST    9 STREET</td>\n",
       "      <td>EAST    9 STREET</td>\n",
       "      <td>ADDRESS</td>\n",
       "      <td>NEW YORK</td>\n",
       "      <td>The Department of Housing Preservation and Dev...</td>\n",
       "      <td>MANHATTAN</td>\n",
       "      <td>40.728796</td>\n",
       "      <td>-73.986351</td>\n",
       "      <td>2020-02-05T17:25:20.000</td>\n",
       "      <td>RESIDENTIAL BUILDING</td>\n",
       "      <td>Closed</td>\n",
       "    </tr>\n",
       "    <tr>\n",
       "      <th>4</th>\n",
       "      <td>2020-02-05 18:48:25</td>\n",
       "      <td>45553886</td>\n",
       "      <td>HEAT/HOT WATER</td>\n",
       "      <td>10034.0</td>\n",
       "      <td>125 VERMILYEA AVENUE</td>\n",
       "      <td>VERMILYEA AVENUE</td>\n",
       "      <td>ADDRESS</td>\n",
       "      <td>NEW YORK</td>\n",
       "      <td>The complaint you filed is a duplicate of a co...</td>\n",
       "      <td>MANHATTAN</td>\n",
       "      <td>40.866492</td>\n",
       "      <td>-73.921313</td>\n",
       "      <td>NaN</td>\n",
       "      <td>RESIDENTIAL BUILDING</td>\n",
       "      <td>Open</td>\n",
       "    </tr>\n",
       "  </tbody>\n",
       "</table>\n",
       "</div>"
      ],
      "text/plain": [
       "         created_date  unique_key  complaint_type  incident_zip  \\\n",
       "0 2020-02-05 10:29:10    45554675     DOOR/WINDOW       10016.0   \n",
       "1 2020-02-05 12:51:21    45553708        ELECTRIC       10033.0   \n",
       "2 2020-02-05 20:44:10    45554755  HEAT/HOT WATER       11216.0   \n",
       "3 2020-02-05 07:47:17    45553828  HEAT/HOT WATER       10003.0   \n",
       "4 2020-02-05 18:48:25    45553886  HEAT/HOT WATER       10034.0   \n",
       "\n",
       "          incident_address         street_name address_type      city  \\\n",
       "0             500 2 AVENUE            2 AVENUE      ADDRESS  NEW YORK   \n",
       "1  1401 ST NICHOLAS AVENUE  ST NICHOLAS AVENUE      ADDRESS  NEW YORK   \n",
       "2           815 PARK PLACE          PARK PLACE      ADDRESS  BROOKLYN   \n",
       "3     332 EAST    9 STREET    EAST    9 STREET      ADDRESS  NEW YORK   \n",
       "4     125 VERMILYEA AVENUE    VERMILYEA AVENUE      ADDRESS  NEW YORK   \n",
       "\n",
       "                              resolution_description    borough   latitude  \\\n",
       "0  The following complaint conditions are still o...  MANHATTAN  40.741111   \n",
       "1  The following complaint conditions are still o...  MANHATTAN  40.848783   \n",
       "2  The following complaint conditions are still o...   BROOKLYN  40.673471   \n",
       "3  The Department of Housing Preservation and Dev...  MANHATTAN  40.728796   \n",
       "4  The complaint you filed is a duplicate of a co...  MANHATTAN  40.866492   \n",
       "\n",
       "   longitude              closed_date         location_type  status  \n",
       "0 -73.978539                      NaN  RESIDENTIAL BUILDING    Open  \n",
       "1 -73.934140                      NaN  RESIDENTIAL BUILDING    Open  \n",
       "2 -73.950921                      NaN  RESIDENTIAL BUILDING    Open  \n",
       "3 -73.986351  2020-02-05T17:25:20.000  RESIDENTIAL BUILDING  Closed  \n",
       "4 -73.921313                      NaN  RESIDENTIAL BUILDING    Open  "
      ]
     },
     "execution_count": 5,
     "metadata": {},
     "output_type": "execute_result"
    }
   ],
   "source": [
    "df = pd.read_pickle('./df_raw_local.pkl')\n",
    "df.head()"
   ]
  },
  {
   "cell_type": "code",
   "execution_count": 6,
   "metadata": {
    "scrolled": true
   },
   "outputs": [
    {
     "data": {
      "text/plain": [
       "HEAT/HOT WATER    1263069\n",
       "HEATING            887869\n",
       "Name: complaint_type, dtype: int64"
      ]
     },
     "execution_count": 6,
     "metadata": {},
     "output_type": "execute_result"
    }
   ],
   "source": [
    "#Creating a mask to seperated the data set into only hot ater complaints. Then checking values to confirm it worked\n",
    "mask=(df['complaint_type']=='HEAT/HOT WATER')\n",
    "maskb=(df['complaint_type']=='HEATING')\n",
    "df_heating=df.loc[mask | maskb]\n",
    "df_heating['complaint_type'].value_counts()"
   ]
  },
  {
   "cell_type": "code",
   "execution_count": 7,
   "metadata": {},
   "outputs": [
    {
     "data": {
      "text/plain": [
       "<matplotlib.axes._subplots.AxesSubplot at 0x7f9e141028d0>"
      ]
     },
     "execution_count": 7,
     "metadata": {},
     "output_type": "execute_result"
    },
    {
     "data": {
      "image/png": "[encoded data removed]",
      "text/plain": [
       "<Figure size 432x288 with 1 Axes>"
      ]
     },
     "metadata": {
      "needs_background": "light"
     },
     "output_type": "display_data"
    }
   ],
   "source": [
    "#Creating a table to make comparing the different boroughs easier to visualise\n",
    "df_heating['borough'].value_counts().plot(kind='bar', title='Boroughs')"
   ]
  },
  {
   "cell_type": "code",
   "execution_count": 14,
   "metadata": {},
   "outputs": [
    {
     "data": {
      "text/plain": [
       "<matplotlib.axes._subplots.AxesSubplot at 0x7f9e09842748>"
      ]
     },
     "execution_count": 14,
     "metadata": {},
     "output_type": "execute_result"
    },
    {
     "data": {
      "image/png": "[encoded data removed]",
      "text/plain": [
       "<Figure size 432x288 with 1 Axes>"
      ]
     },
     "metadata": {
      "needs_background": "light"
     },
     "output_type": "display_data"
    }
   ],
   "source": [
    "#Due to the quantity of possible categories and the different scale of complaint quantity, I cut off a portion of the data\n",
    "df_heating['street_name'].value_counts().head(n=10).plot(kind='bar',title='Street')"
   ]
  },
  {
   "cell_type": "code",
   "execution_count": 15,
   "metadata": {},
   "outputs": [
    {
     "data": {
      "text/plain": [
       "<matplotlib.axes._subplots.AxesSubplot at 0x7f9e098535f8>"
      ]
     },
     "execution_count": 15,
     "metadata": {},
     "output_type": "execute_result"
    },
    {
     "data": {
      "image/png": "[encoded data removed]",
      "text/plain": [
       "<Figure size 432x288 with 1 Axes>"
      ]
     },
     "metadata": {
      "needs_background": "light"
     },
     "output_type": "display_data"
    }
   ],
   "source": [
    "df_heating['incident_zip'].value_counts().head(n=10).plot(kind='bar',title='ZIP code')"
   ]
  },
  {
   "cell_type": "code",
   "execution_count": 16,
   "metadata": {},
   "outputs": [],
   "source": [
    "#From our data we can see that both the bronx and brocklyn have by far the highest number of complaints, and are relitively comparable to each other. However grand concourse street has almost double the number of complaints of pretty much any other street. \n",
    "#Given that this road also runs through some of the zip codes with the highest rates of complaints, I would argue that focusing on the bronx and specifically the complaints from the grand concourse would be the best course of action.\n",
    "#Incase it is needed later, uploading a version of df_heating.\n",
    "df_heating.to_pickle('./df_heating.pkl')\n",
    "client_cred.upload_file('./df_heating.pkl',bucket,'df_heating_cos.pkl')"
   ]
  },
  {
   "cell_type": "code",
   "execution_count": null,
   "metadata": {},
   "outputs": [],
   "source": []
  }
 ],
 "metadata": {
  "kernelspec": {
   "display_name": "Python 3.6",
   "language": "python",
   "name": "python3"
  },
  "language_info": {
   "codemirror_mode": {
    "name": "ipython",
    "version": 3
   },
   "file_extension": ".py",
   "mimetype": "text/x-python",
   "name": "python",
   "nbconvert_exporter": "python",
   "pygments_lexer": "ipython3",
   "version": "3.6.9"
  }
 },
 "nbformat": 4,
 "nbformat_minor": 1
}
